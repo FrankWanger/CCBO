{
 "cells": [
  {
   "cell_type": "code",
   "execution_count": 1,
   "metadata": {},
   "outputs": [
    {
     "name": "stdout",
     "output_type": "stream",
     "text": [
      "Performing Bayesian optimization using qEICF_vi_mixed_con...\n"
     ]
    }
   ],
   "source": [
    "import torch\n",
    "import numpy as np\n",
    "import pandas as pd\n",
    "\n",
    "from botorch.utils.sampling import draw_sobol_samples\n",
    "from bonp.core import optimize_acqf_and_get_recommendation\n",
    "\n",
    "tkwargs = {\n",
    "    \"dtype\": torch.float64,\n",
    "    # \"device\": torch.device(\"cuda\" if torch.cuda.is_available() else \"cpu\"),\n",
    "    \"device\": torch.device(\"cpu\"),\n",
    "}\n",
    "\n",
    "torch.manual_seed(0)\n",
    "\n",
    "# Set the aiming particle size (um)\n",
    "TARGET_SIZE = torch.tensor(3.0, **tkwargs)\n",
    "\n",
    "# Set the solvent dictionary: 0 for DMAc, 1 for CHCl3\n",
    "SOLVENT_DICT = {1: \"CHCl3\", 0: \"DMAc\"}\n",
    "\n",
    "# Set the bounds for the processing parameters\n",
    "bounds = torch.tensor([[0.05, 0.01, 10, 0], [5.0, 60.0, 18, 1]], **tkwargs)\n",
    "\n",
    "# Set params for guided experimental design\n",
    "BATCH_SIZE = 2\n",
    "strategy = \"qEICF_vi_mixed_con\"\n",
    "\n",
    "print(f\"Performing Bayesian optimization using {strategy}...\")"
   ]
  },
  {
   "cell_type": "markdown",
   "metadata": {},
   "source": [
    "# Round 0: Sobel Init"
   ]
  },
  {
   "cell_type": "code",
   "execution_count": 2,
   "metadata": {},
   "outputs": [
    {
     "data": {
      "text/html": [
       "<div>\n",
       "<style scoped>\n",
       "    .dataframe tbody tr th:only-of-type {\n",
       "        vertical-align: middle;\n",
       "    }\n",
       "\n",
       "    .dataframe tbody tr th {\n",
       "        vertical-align: top;\n",
       "    }\n",
       "\n",
       "    .dataframe thead th {\n",
       "        text-align: right;\n",
       "    }\n",
       "</style>\n",
       "<table border=\"1\" class=\"dataframe\">\n",
       "  <thead>\n",
       "    <tr style=\"text-align: right;\">\n",
       "      <th></th>\n",
       "      <th>Concentration (%)</th>\n",
       "      <th>Flow Rate (uL/min)</th>\n",
       "      <th>Voltage (kV)</th>\n",
       "      <th>Solvent</th>\n",
       "    </tr>\n",
       "  </thead>\n",
       "  <tbody>\n",
       "    <tr>\n",
       "      <th>0</th>\n",
       "      <td>2.401781</td>\n",
       "      <td>1.732388</td>\n",
       "      <td>13.955834</td>\n",
       "      <td>DMAc</td>\n",
       "    </tr>\n",
       "    <tr>\n",
       "      <th>1</th>\n",
       "      <td>4.062639</td>\n",
       "      <td>0.435760</td>\n",
       "      <td>15.700379</td>\n",
       "      <td>CHCl3</td>\n",
       "    </tr>\n",
       "    <tr>\n",
       "      <th>2</th>\n",
       "      <td>2.880187</td>\n",
       "      <td>49.111354</td>\n",
       "      <td>11.789306</td>\n",
       "      <td>DMAc</td>\n",
       "    </tr>\n",
       "    <tr>\n",
       "      <th>3</th>\n",
       "      <td>0.755436</td>\n",
       "      <td>0.010943</td>\n",
       "      <td>17.554481</td>\n",
       "      <td>CHCl3</td>\n",
       "    </tr>\n",
       "    <tr>\n",
       "      <th>4</th>\n",
       "      <td>0.112274</td>\n",
       "      <td>10.427114</td>\n",
       "      <td>14.522246</td>\n",
       "      <td>CHCl3</td>\n",
       "    </tr>\n",
       "    <tr>\n",
       "      <th>5</th>\n",
       "      <td>3.552020</td>\n",
       "      <td>0.059013</td>\n",
       "      <td>12.758979</td>\n",
       "      <td>DMAc</td>\n",
       "    </tr>\n",
       "    <tr>\n",
       "      <th>6</th>\n",
       "      <td>4.550922</td>\n",
       "      <td>2.394492</td>\n",
       "      <td>16.730707</td>\n",
       "      <td>CHCl3</td>\n",
       "    </tr>\n",
       "    <tr>\n",
       "      <th>7</th>\n",
       "      <td>1.884746</td>\n",
       "      <td>0.209578</td>\n",
       "      <td>10.988069</td>\n",
       "      <td>DMAc</td>\n",
       "    </tr>\n",
       "  </tbody>\n",
       "</table>\n",
       "</div>"
      ],
      "text/plain": [
       "   Concentration (%)  Flow Rate (uL/min)  Voltage (kV) Solvent\n",
       "0           2.401781            1.732388     13.955834    DMAc\n",
       "1           4.062639            0.435760     15.700379   CHCl3\n",
       "2           2.880187           49.111354     11.789306    DMAc\n",
       "3           0.755436            0.010943     17.554481   CHCl3\n",
       "4           0.112274           10.427114     14.522246   CHCl3\n",
       "5           3.552020            0.059013     12.758979    DMAc\n",
       "6           4.550922            2.394492     16.730707   CHCl3\n",
       "7           1.884746            0.209578     10.988069    DMAc"
      ]
     },
     "execution_count": 2,
     "metadata": {},
     "output_type": "execute_result"
    }
   ],
   "source": [
    "# log transform the flow rate\n",
    "bounds[0, 1] = torch.log(bounds[0, 1])\n",
    "bounds[1, 1] = torch.log(bounds[1, 1])\n",
    "\n",
    "# Generate sobel sequence for initial data\n",
    "X_init = draw_sobol_samples(bounds=bounds, n=8, q=1).squeeze(1)\n",
    "\n",
    "# If the flow rate is log-transformed, transform the flow rate back to the original scale\n",
    "X_init[:, 1] = torch.exp(X_init[:, 1])\n",
    "bounds[0, 1] = torch.exp(bounds[0, 1])\n",
    "bounds[1, 1] = torch.exp(bounds[1, 1])\n",
    "\n",
    "# round up the solvent dimension to get the integer\n",
    "X_init[:, 3] = torch.round(X_init[:, 3])\n",
    "\n",
    "# Initialize the experiment record\n",
    "experiment_df = pd.DataFrame(\n",
    "    X_init.numpy(),\n",
    "    columns=[\"Concentration (%)\", \"Flow Rate (uL/min)\", \"Voltage (kV)\", \"Solvent\"],\n",
    ")\n",
    "# Convert the solvent column to string\n",
    "experiment_df[\"Solvent\"] = experiment_df[\"Solvent\"].map({1: \"CHCl3\", 0: \"DMAc\"})\n",
    "experiment_df"
   ]
  },
  {
   "cell_type": "code",
   "execution_count": 3,
   "metadata": {},
   "outputs": [],
   "source": [
    "# Add sobel init results from experiment\n",
    "Y_init = torch.tensor(\n",
    "    [\n",
    "        [0.56, 1.00],\n",
    "        [1.0, 0.00],\n",
    "        [15.0, 0.00],\n",
    "        [1.2, 0.00],\n",
    "        [6.26, 1.00],\n",
    "        [0.15, 1.00],\n",
    "        [5.24, 1.00],\n",
    "        [1.12, 1.00],\n",
    "    ],\n",
    "    **tkwargs\n",
    ")"
   ]
  },
  {
   "cell_type": "markdown",
   "metadata": {},
   "source": [
    "## Round 1:"
   ]
  },
  {
   "cell_type": "code",
   "execution_count": 4,
   "metadata": {},
   "outputs": [
    {
     "name": "stdout",
     "output_type": "stream",
     "text": [
      "Current best result:1.12 um\n"
     ]
    },
    {
     "data": {
      "text/html": [
       "<div>\n",
       "<style scoped>\n",
       "    .dataframe tbody tr th:only-of-type {\n",
       "        vertical-align: middle;\n",
       "    }\n",
       "\n",
       "    .dataframe tbody tr th {\n",
       "        vertical-align: top;\n",
       "    }\n",
       "\n",
       "    .dataframe thead th {\n",
       "        text-align: right;\n",
       "    }\n",
       "</style>\n",
       "<table border=\"1\" class=\"dataframe\">\n",
       "  <thead>\n",
       "    <tr style=\"text-align: right;\">\n",
       "      <th></th>\n",
       "      <th>Concentration (%)</th>\n",
       "      <th>Flow Rate (uL/min)</th>\n",
       "      <th>Voltage (kV)</th>\n",
       "      <th>Solvent</th>\n",
       "    </tr>\n",
       "  </thead>\n",
       "  <tbody>\n",
       "    <tr>\n",
       "      <th>0</th>\n",
       "      <td>1.660193</td>\n",
       "      <td>0.800621</td>\n",
       "      <td>10.740816</td>\n",
       "      <td>DMAc</td>\n",
       "    </tr>\n",
       "    <tr>\n",
       "      <th>1</th>\n",
       "      <td>0.364120</td>\n",
       "      <td>3.647617</td>\n",
       "      <td>14.629043</td>\n",
       "      <td>CHCl3</td>\n",
       "    </tr>\n",
       "  </tbody>\n",
       "</table>\n",
       "</div>"
      ],
      "text/plain": [
       "   Concentration (%)  Flow Rate (uL/min)  Voltage (kV) Solvent\n",
       "0           1.660193            0.800621     10.740816    DMAc\n",
       "1           0.364120            3.647617     14.629043   CHCl3"
      ]
     },
     "execution_count": 4,
     "metadata": {},
     "output_type": "execute_result"
    }
   ],
   "source": [
    "Y_distance = -np.abs(Y_init[:, 0] - TARGET_SIZE)\n",
    "best_Y_ind = np.argmax(np.ma.masked_array(Y_distance, mask=~Y_init[:, 1].bool()))\n",
    "raw_Y = Y_init[best_Y_ind].numpy()\n",
    "print(f\"Current best result:{raw_Y[0]} um\")\n",
    "\n",
    "# perform the optimization and recommend next experiments\n",
    "new_x = optimize_acqf_and_get_recommendation(\n",
    "    X_init,\n",
    "    Y_init,\n",
    "    bounds,\n",
    "    y_target=TARGET_SIZE,\n",
    "    strategy=strategy,\n",
    "    batch_size=BATCH_SIZE,\n",
    ")\n",
    "# Initialize the experiment record\n",
    "new_experiment_df = pd.DataFrame(\n",
    "    new_x.numpy(),\n",
    "    columns=[\"Concentration (%)\", \"Flow Rate (uL/min)\", \"Voltage (kV)\", \"Solvent\"],\n",
    ")\n",
    "# Convert the solvent column to string\n",
    "new_experiment_df[\"Solvent\"] = new_experiment_df[\"Solvent\"].map({1: \"CHCl3\", 0: \"DMAc\"})\n",
    "new_experiment_df"
   ]
  },
  {
   "cell_type": "code",
   "execution_count": 5,
   "metadata": {},
   "outputs": [],
   "source": [
    "# Perform the experiment and obtain the particle size for new_x\n",
    "new_y = torch.tensor([[0.30, 1], [2.69, 1]], **tkwargs)"
   ]
  },
  {
   "cell_type": "markdown",
   "metadata": {},
   "source": [
    "# Round 2:"
   ]
  },
  {
   "cell_type": "code",
   "execution_count": 6,
   "metadata": {},
   "outputs": [
    {
     "name": "stdout",
     "output_type": "stream",
     "text": [
      "Current best result:2.69 um\n"
     ]
    },
    {
     "data": {
      "text/html": [
       "<div>\n",
       "<style scoped>\n",
       "    .dataframe tbody tr th:only-of-type {\n",
       "        vertical-align: middle;\n",
       "    }\n",
       "\n",
       "    .dataframe tbody tr th {\n",
       "        vertical-align: top;\n",
       "    }\n",
       "\n",
       "    .dataframe thead th {\n",
       "        text-align: right;\n",
       "    }\n",
       "</style>\n",
       "<table border=\"1\" class=\"dataframe\">\n",
       "  <thead>\n",
       "    <tr style=\"text-align: right;\">\n",
       "      <th></th>\n",
       "      <th>Concentration (%)</th>\n",
       "      <th>Flow Rate (uL/min)</th>\n",
       "      <th>Voltage (kV)</th>\n",
       "      <th>Solvent</th>\n",
       "    </tr>\n",
       "  </thead>\n",
       "  <tbody>\n",
       "    <tr>\n",
       "      <th>0</th>\n",
       "      <td>0.57426</td>\n",
       "      <td>3.740271</td>\n",
       "      <td>16.473412</td>\n",
       "      <td>CHCl3</td>\n",
       "    </tr>\n",
       "    <tr>\n",
       "      <th>1</th>\n",
       "      <td>0.05000</td>\n",
       "      <td>3.554317</td>\n",
       "      <td>14.514592</td>\n",
       "      <td>CHCl3</td>\n",
       "    </tr>\n",
       "  </tbody>\n",
       "</table>\n",
       "</div>"
      ],
      "text/plain": [
       "   Concentration (%)  Flow Rate (uL/min)  Voltage (kV) Solvent\n",
       "0            0.57426            3.740271     16.473412   CHCl3\n",
       "1            0.05000            3.554317     14.514592   CHCl3"
      ]
     },
     "execution_count": 6,
     "metadata": {},
     "output_type": "execute_result"
    }
   ],
   "source": [
    "# combine X_init and new_x\n",
    "X_init = torch.cat((X_init, new_x))\n",
    "Y_init = torch.cat((Y_init, new_y))\n",
    "\n",
    "# print the current best result\n",
    "Y_distance = -np.abs(Y_init[:, 0] - TARGET_SIZE)\n",
    "best_Y_ind = np.argmax(np.ma.masked_array(Y_distance, mask=~Y_init[:, 1].bool()))\n",
    "raw_Y = Y_init[best_Y_ind].numpy()\n",
    "print(f\"Current best result:{raw_Y[0]} um\")\n",
    "\n",
    "# perform the optimization and recommend next experiments\n",
    "new_x = optimize_acqf_and_get_recommendation(\n",
    "    X_init,\n",
    "    Y_init,\n",
    "    bounds,\n",
    "    y_target=TARGET_SIZE,\n",
    "    strategy=strategy,\n",
    "    batch_size=BATCH_SIZE,\n",
    ")\n",
    "# Initialize the experiment record\n",
    "new_experiment_df = pd.DataFrame(\n",
    "    new_x.numpy(),\n",
    "    columns=[\"Concentration (%)\", \"Flow Rate (uL/min)\", \"Voltage (kV)\", \"Solvent\"],\n",
    ")\n",
    "# Convert the solvent column to string\n",
    "new_experiment_df[\"Solvent\"] = new_experiment_df[\"Solvent\"].map({1: \"CHCl3\", 0: \"DMAc\"})\n",
    "new_experiment_df"
   ]
  },
  {
   "cell_type": "code",
   "execution_count": 7,
   "metadata": {},
   "outputs": [],
   "source": [
    "# Perform the experiment and obtain the particle size for new_x\n",
    "new_y = torch.tensor([[4.69, 1], [10.64, 0]], **tkwargs)"
   ]
  },
  {
   "cell_type": "markdown",
   "metadata": {},
   "source": [
    "# Round 3:"
   ]
  },
  {
   "cell_type": "code",
   "execution_count": 8,
   "metadata": {},
   "outputs": [
    {
     "name": "stdout",
     "output_type": "stream",
     "text": [
      "Current best result:2.69 um\n"
     ]
    },
    {
     "data": {
      "text/html": [
       "<div>\n",
       "<style scoped>\n",
       "    .dataframe tbody tr th:only-of-type {\n",
       "        vertical-align: middle;\n",
       "    }\n",
       "\n",
       "    .dataframe tbody tr th {\n",
       "        vertical-align: top;\n",
       "    }\n",
       "\n",
       "    .dataframe thead th {\n",
       "        text-align: right;\n",
       "    }\n",
       "</style>\n",
       "<table border=\"1\" class=\"dataframe\">\n",
       "  <thead>\n",
       "    <tr style=\"text-align: right;\">\n",
       "      <th></th>\n",
       "      <th>Concentration (%)</th>\n",
       "      <th>Flow Rate (uL/min)</th>\n",
       "      <th>Voltage (kV)</th>\n",
       "      <th>Solvent</th>\n",
       "    </tr>\n",
       "  </thead>\n",
       "  <tbody>\n",
       "    <tr>\n",
       "      <th>0</th>\n",
       "      <td>1.628817</td>\n",
       "      <td>1.917756</td>\n",
       "      <td>16.197772</td>\n",
       "      <td>CHCl3</td>\n",
       "    </tr>\n",
       "    <tr>\n",
       "      <th>1</th>\n",
       "      <td>4.510426</td>\n",
       "      <td>1.384216</td>\n",
       "      <td>14.890315</td>\n",
       "      <td>CHCl3</td>\n",
       "    </tr>\n",
       "  </tbody>\n",
       "</table>\n",
       "</div>"
      ],
      "text/plain": [
       "   Concentration (%)  Flow Rate (uL/min)  Voltage (kV) Solvent\n",
       "0           1.628817            1.917756     16.197772   CHCl3\n",
       "1           4.510426            1.384216     14.890315   CHCl3"
      ]
     },
     "execution_count": 8,
     "metadata": {},
     "output_type": "execute_result"
    }
   ],
   "source": [
    "# combine X_init and new_x\n",
    "X_init = torch.cat((X_init, new_x))\n",
    "Y_init = torch.cat((Y_init, new_y))\n",
    "\n",
    "# print the current best result\n",
    "Y_distance = -np.abs(Y_init[:, 0] - TARGET_SIZE)\n",
    "best_Y_ind = np.argmax(np.ma.masked_array(Y_distance, mask=~Y_init[:, 1].bool()))\n",
    "raw_Y = Y_init[best_Y_ind].numpy()\n",
    "print(f\"Current best result:{raw_Y[0]} um\")\n",
    "\n",
    "# perform the optimization and recommend next experiments\n",
    "new_x = optimize_acqf_and_get_recommendation(\n",
    "    X_init,\n",
    "    Y_init,\n",
    "    bounds,\n",
    "    y_target=TARGET_SIZE,\n",
    "    strategy=strategy,\n",
    "    batch_size=BATCH_SIZE,\n",
    ")\n",
    "# Initialize the experiment record\n",
    "new_experiment_df = pd.DataFrame(\n",
    "    new_x.numpy(),\n",
    "    columns=[\"Concentration (%)\", \"Flow Rate (uL/min)\", \"Voltage (kV)\", \"Solvent\"],\n",
    ")\n",
    "# Convert the solvent column to string\n",
    "new_experiment_df[\"Solvent\"] = new_experiment_df[\"Solvent\"].map({1: \"CHCl3\", 0: \"DMAc\"})\n",
    "new_experiment_df"
   ]
  },
  {
   "cell_type": "code",
   "execution_count": 9,
   "metadata": {},
   "outputs": [],
   "source": [
    "# Perform the experiment and obtain the particle size for new_x\n",
    "new_y = torch.tensor([[4.14, 1], [4.05, 1]], **tkwargs)"
   ]
  },
  {
   "cell_type": "markdown",
   "metadata": {},
   "source": [
    "# Round 4"
   ]
  },
  {
   "cell_type": "code",
   "execution_count": 10,
   "metadata": {},
   "outputs": [
    {
     "name": "stdout",
     "output_type": "stream",
     "text": [
      "Current best result:2.69 um\n"
     ]
    },
    {
     "data": {
      "text/html": [
       "<div>\n",
       "<style scoped>\n",
       "    .dataframe tbody tr th:only-of-type {\n",
       "        vertical-align: middle;\n",
       "    }\n",
       "\n",
       "    .dataframe tbody tr th {\n",
       "        vertical-align: top;\n",
       "    }\n",
       "\n",
       "    .dataframe thead th {\n",
       "        text-align: right;\n",
       "    }\n",
       "</style>\n",
       "<table border=\"1\" class=\"dataframe\">\n",
       "  <thead>\n",
       "    <tr style=\"text-align: right;\">\n",
       "      <th></th>\n",
       "      <th>Concentration (%)</th>\n",
       "      <th>Flow Rate (uL/min)</th>\n",
       "      <th>Voltage (kV)</th>\n",
       "      <th>Solvent</th>\n",
       "    </tr>\n",
       "  </thead>\n",
       "  <tbody>\n",
       "    <tr>\n",
       "      <th>0</th>\n",
       "      <td>4.445068</td>\n",
       "      <td>1.296518</td>\n",
       "      <td>17.386783</td>\n",
       "      <td>CHCl3</td>\n",
       "    </tr>\n",
       "    <tr>\n",
       "      <th>1</th>\n",
       "      <td>4.020724</td>\n",
       "      <td>1.078188</td>\n",
       "      <td>16.275159</td>\n",
       "      <td>CHCl3</td>\n",
       "    </tr>\n",
       "  </tbody>\n",
       "</table>\n",
       "</div>"
      ],
      "text/plain": [
       "   Concentration (%)  Flow Rate (uL/min)  Voltage (kV) Solvent\n",
       "0           4.445068            1.296518     17.386783   CHCl3\n",
       "1           4.020724            1.078188     16.275159   CHCl3"
      ]
     },
     "execution_count": 10,
     "metadata": {},
     "output_type": "execute_result"
    }
   ],
   "source": [
    "# combine X_init and new_x\n",
    "X_init = torch.cat((X_init, new_x))\n",
    "Y_init = torch.cat((Y_init, new_y))\n",
    "\n",
    "# print the current best result\n",
    "Y_distance = -np.abs(Y_init[:, 0] - TARGET_SIZE)\n",
    "best_Y_ind = np.argmax(np.ma.masked_array(Y_distance, mask=~Y_init[:, 1].bool()))\n",
    "raw_Y = Y_init[best_Y_ind].numpy()\n",
    "print(f\"Current best result:{raw_Y[0]} um\")\n",
    "\n",
    "# perform the optimization and recommend next experiments\n",
    "new_x = optimize_acqf_and_get_recommendation(\n",
    "    X_init,\n",
    "    Y_init,\n",
    "    bounds,\n",
    "    y_target=TARGET_SIZE,\n",
    "    strategy=strategy,\n",
    "    batch_size=BATCH_SIZE,\n",
    ")\n",
    "# Initialize the experiment record\n",
    "new_experiment_df = pd.DataFrame(\n",
    "    new_x.numpy(),\n",
    "    columns=[\"Concentration (%)\", \"Flow Rate (uL/min)\", \"Voltage (kV)\", \"Solvent\"],\n",
    ")\n",
    "# Convert the solvent column to string\n",
    "new_experiment_df[\"Solvent\"] = new_experiment_df[\"Solvent\"].map({1: \"CHCl3\", 0: \"DMAc\"})\n",
    "new_experiment_df"
   ]
  },
  {
   "cell_type": "code",
   "execution_count": 11,
   "metadata": {},
   "outputs": [],
   "source": [
    "# Perform the experiment and obtain the particle size for new_x\n",
    "new_y = torch.tensor([[3.58, 1], [3.29, 1]], **tkwargs)"
   ]
  }
 ],
 "metadata": {
  "kernelspec": {
   "display_name": "bopy",
   "language": "python",
   "name": "python3"
  },
  "language_info": {
   "codemirror_mode": {
    "name": "ipython",
    "version": 3
   },
   "file_extension": ".py",
   "mimetype": "text/x-python",
   "name": "python",
   "nbconvert_exporter": "python",
   "pygments_lexer": "ipython3",
   "version": "3.10.14"
  }
 },
 "nbformat": 4,
 "nbformat_minor": 2
}
